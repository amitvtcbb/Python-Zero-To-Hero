{
 "cells": [
  {
   "cell_type": "code",
   "execution_count": null,
   "id": "7cb8cb64",
   "metadata": {},
   "outputs": [],
   "source": [
    "Q1. Python program to print Highest Common Factor (HCF) of two numbers\n",
    "\n",
    "Example : Take values according to you "
   ]
  },
  {
   "cell_type": "code",
   "execution_count": null,
   "id": "e55d841c",
   "metadata": {},
   "outputs": [],
   "source": [
    "Q2.  What will be the output of the following Python code?\n",
    "\n",
    "i=0\n",
    "def change(i):\n",
    "   i=i+1\n",
    "   return i\n",
    "change(1)\n",
    "print(i)\n",
    "\n",
    "a) 1\n",
    "b) Nothing is displayed\n",
    "c) 0\n",
    "d) An exception is thrown"
   ]
  },
  {
   "cell_type": "code",
   "execution_count": null,
   "id": "4560b035",
   "metadata": {},
   "outputs": [],
   "source": [
    "3. What will be the output of the following Python code?\n",
    "\n",
    "def a(b):\n",
    "    b = b + [5]\n",
    " \n",
    "c = [1, 2, 3, 4]\n",
    "a(c)\n",
    "print(len(c))"
   ]
  },
  {
   "cell_type": "code",
   "execution_count": null,
   "id": "4b4ccc35",
   "metadata": {},
   "outputs": [],
   "source": [
    "4. What will be the output of the following Python code?\n",
    "\n",
    "a=10\n",
    "b=20\n",
    "def change():\n",
    "    global b\n",
    "    a=45\n",
    "    b=56\n",
    "change()\n",
    "print(a)\n",
    "print(b)\n",
    "\n",
    "a)\n",
    "10\n",
    "56\n",
    "\n",
    "b)\n",
    "45\n",
    "56\n",
    "\n",
    "c)\n",
    "10\n",
    "20\n",
    "\n",
    "d) Syntax Error"
   ]
  },
  {
   "cell_type": "code",
   "execution_count": null,
   "id": "3b21837c",
   "metadata": {},
   "outputs": [],
   "source": [
    "5. What will be the output of the following Python code?\n",
    "\n",
    "def change(i = 1, j = 2):\n",
    "    i = i + j\n",
    "    j = j + 1\n",
    "    print(i, j)\n",
    "change(j = 1, i = 2)\n",
    "\n",
    "\n",
    "a) An exception is thrown because of conflicting values\n",
    "b) 1 2\n",
    "c) 3 3\n",
    "d) 3 2"
   ]
  },
  {
   "cell_type": "code",
   "execution_count": null,
   "id": "d5a5fe1a",
   "metadata": {},
   "outputs": [],
   "source": []
  }
 ],
 "metadata": {
  "kernelspec": {
   "display_name": "Python 3",
   "language": "python",
   "name": "python3"
  },
  "language_info": {
   "codemirror_mode": {
    "name": "ipython",
    "version": 3
   },
   "file_extension": ".py",
   "mimetype": "text/x-python",
   "name": "python",
   "nbconvert_exporter": "python",
   "pygments_lexer": "ipython3",
   "version": "3.9.7"
  }
 },
 "nbformat": 4,
 "nbformat_minor": 5
}
