{
 "cells": [
  {
   "cell_type": "markdown",
   "id": "99cb916e",
   "metadata": {},
   "source": [
    "Object Oriented Programming Challenge\n",
    "\n",
    "For this challenge, create a bank account class that has two attributes:\n",
    "    owner\n",
    "    balance\n",
    "and two methods:\n",
    "    deposit\n",
    "    withdraw\n",
    "    \n",
    "As an added requirement, withdrawals may not exceed the available balance.\n",
    "\n",
    "Instantiate your class, make several deposits and withdrawals, and test to make sure the account can't be overdrawn."
   ]
  },
  {
   "cell_type": "code",
   "execution_count": 1,
   "id": "1331d4d0",
   "metadata": {},
   "outputs": [],
   "source": [
    "class Account:\n",
    "    def __init__(self, owner, balance=0):\n",
    "        self.owner = owner\n",
    "        self.balance = balance\n",
    "    def __str__(self):\n",
    "        return \"Account owner: Pavan \\nAccount balance: 100\"\n",
    "    def deposit(self, dep_amt):\n",
    "        self.balance += dep_amt\n",
    "        print(\"Deposit Accepted\")\n",
    "    def widthraw(self, wd_amt):\n",
    "        try:\n",
    "            if self.balance >= wd_amt:\n",
    "                self.balance -= wd_amt\n",
    "                print(\"Withdrwal accepted\")\n",
    "            else:\n",
    "                print(\"Funds unavailable\")\n",
    "        except ValueError:\n",
    "                print(\"valueerror for fund\")"
   ]
  },
  {
   "cell_type": "code",
   "execution_count": 3,
   "id": "a609d998",
   "metadata": {},
   "outputs": [],
   "source": [
    "# 1. Instantiate the class\n",
    "client=Account('Amit',5000)"
   ]
  },
  {
   "cell_type": "code",
   "execution_count": 4,
   "id": "b62fe721",
   "metadata": {},
   "outputs": [
    {
     "name": "stdout",
     "output_type": "stream",
     "text": [
      "Account owner: Pavan \n",
      "Account balance: 100\n"
     ]
    }
   ],
   "source": [
    "# 2. Print the object\n",
    "print(client)"
   ]
  },
  {
   "cell_type": "code",
   "execution_count": 6,
   "id": "dadeb81d",
   "metadata": {},
   "outputs": [
    {
     "name": "stdout",
     "output_type": "stream",
     "text": [
      "Amit\n",
      "5000\n"
     ]
    }
   ],
   "source": [
    "# 3. Show the account owner attribute\n",
    "print(client.owner)\n",
    "print(client.balance)"
   ]
  },
  {
   "cell_type": "code",
   "execution_count": 7,
   "id": "0e62e9ec",
   "metadata": {},
   "outputs": [
    {
     "name": "stdout",
     "output_type": "stream",
     "text": [
      "5000\n"
     ]
    }
   ],
   "source": [
    "#4. Show the account balance attribute\n",
    "print(client.balance)"
   ]
  },
  {
   "cell_type": "code",
   "execution_count": 9,
   "id": "054ceeb0",
   "metadata": {},
   "outputs": [
    {
     "name": "stdout",
     "output_type": "stream",
     "text": [
      "Deposit Accepted\n",
      "Withdrwal accepted\n",
      "5000\n"
     ]
    }
   ],
   "source": [
    "#5. Make a series of deposits and withdrawals\n",
    "client.deposit(1000)\n",
    "client.widthraw(1000)\n",
    "print(client.balance)"
   ]
  },
  {
   "cell_type": "code",
   "execution_count": 11,
   "id": "ce7ed3f0",
   "metadata": {},
   "outputs": [
    {
     "name": "stdout",
     "output_type": "stream",
     "text": [
      "Funds unavailable\n",
      "5000\n"
     ]
    }
   ],
   "source": [
    "# 6. Make a withdrawal that exceeds the available balance\n",
    "client.widthraw(6000)\n",
    "print(client.balance)"
   ]
  }
 ],
 "metadata": {
  "kernelspec": {
   "display_name": "Python 3",
   "language": "python",
   "name": "python3"
  },
  "language_info": {
   "codemirror_mode": {
    "name": "ipython",
    "version": 3
   },
   "file_extension": ".py",
   "mimetype": "text/x-python",
   "name": "python",
   "nbconvert_exporter": "python",
   "pygments_lexer": "ipython3",
   "version": "3.8.8"
  }
 },
 "nbformat": 4,
 "nbformat_minor": 5
}
