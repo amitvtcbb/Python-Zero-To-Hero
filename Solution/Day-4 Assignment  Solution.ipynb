{
 "cells": [
  {
   "cell_type": "markdown",
   "id": "27f32bbf",
   "metadata": {},
   "source": [
    "Q1. Python program to print Highest Common Factor (HCF) of two numbers\n",
    "\n",
    "Example : Take values according to you \n"
   ]
  },
  {
   "cell_type": "markdown",
   "id": "81eb50f2",
   "metadata": {},
   "source": [
    "Answer 1:\n",
    "\n",
    "def hcf(x, y):  \n",
    "    if x > y:  \n",
    "        smaller = y  \n",
    "    else:  \n",
    "        smaller = x  \n",
    "    for i in range(1,smaller + 1):  \n",
    "        if((x % i == 0) and (y % i == 0)):  \n",
    "            hcf = i  \n",
    "    return hcf  \n",
    "  \n",
    "num1 = int(input(\"Enter first number: \"))  \n",
    "num2 = int(input(\"Enter second number: \"))  \n",
    "\n",
    "print(\"The H.C.F. of\", num1,\"and\", num2,\"is\", hcf(num1, num2)) "
   ]
  },
  {
   "cell_type": "markdown",
   "id": "07c1060d",
   "metadata": {},
   "source": [
    "Q2.  What will be the output of the following Python code?\n",
    "\n",
    "i=0\n",
    "def change(i):\n",
    "   i=i+1\n",
    "   return i \n",
    "change(1)\n",
    "print(i)\n",
    "\n",
    "a) 1\n",
    "b) Nothing is displayed\n",
    "c) 0\n",
    "d) An  exception is thrown\n"
   ]
  },
  {
   "cell_type": "markdown",
   "id": "5c45ead2",
   "metadata": {},
   "source": [
    "Answer 2: 0"
   ]
  },
  {
   "cell_type": "markdown",
   "id": "eff5dbec",
   "metadata": {},
   "source": [
    "3. What will be the output of the following Python code?\n",
    "\n",
    "def a(b):\n",
    "    b  =  b  +  [5]\n",
    " \n",
    "c =  [1, 2, 3, 4] \n",
    "a(c) \n",
    "print(len(c))\n"
   ]
  },
  {
   "cell_type": "markdown",
   "id": "8e894328",
   "metadata": {},
   "source": [
    "Answer 3: 4"
   ]
  },
  {
   "cell_type": "markdown",
   "id": "41243dbe",
   "metadata": {},
   "source": [
    "What will be the output of the following Python code?\n",
    "\n",
    "a=10\n",
    "b=20\n",
    "def change():\n",
    "    global b\n",
    "    a=45\n",
    "    b=56 \n",
    "change() \n",
    "print(a) \n",
    "print(b)\n",
    "\n",
    "a)\n",
    "10\n",
    "56\n",
    "\n",
    "b)\n",
    "45\n",
    "56\n",
    "\n",
    "c)\n",
    "10\n",
    "20\n",
    "\n",
    "d) Syntax Error\n"
   ]
  },
  {
   "cell_type": "markdown",
   "id": "5904e8b5",
   "metadata": {},
   "source": [
    "Answer 4:a"
   ]
  },
  {
   "cell_type": "markdown",
   "id": "77346352",
   "metadata": {},
   "source": [
    "#What will be the output of the following Python code?\n",
    "\n",
    "def change(i =  1, j =  2):\n",
    "    i =  i +  j\n",
    "    j =  j +  1\n",
    "    print(i, j)\n",
    "change(j =  1, i =  2)\n",
    "\n",
    "a) An  exception is thrown because of conflicting values\n",
    "b) 1  2\n",
    "c) 3  3 \n",
    "d) 3  2\n"
   ]
  },
  {
   "cell_type": "markdown",
   "id": "fda5c73e",
   "metadata": {},
   "source": [
    "Answer 5: d"
   ]
  }
 ],
 "metadata": {
  "kernelspec": {
   "display_name": "Python 3",
   "language": "python",
   "name": "python3"
  },
  "language_info": {
   "codemirror_mode": {
    "name": "ipython",
    "version": 3
   },
   "file_extension": ".py",
   "mimetype": "text/x-python",
   "name": "python",
   "nbconvert_exporter": "python",
   "pygments_lexer": "ipython3",
   "version": "3.8.8"
  }
 },
 "nbformat": 4,
 "nbformat_minor": 5
}
