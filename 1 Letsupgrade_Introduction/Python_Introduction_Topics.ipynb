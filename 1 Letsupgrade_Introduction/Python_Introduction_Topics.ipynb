{
 "cells": [
  {
   "cell_type": "code",
   "execution_count": null,
   "id": "210a22be",
   "metadata": {},
   "outputs": [],
   "source": [
    "* Introduction\n",
    "* History of the Python\n",
    "* Python syntax\n",
    "* Print Statment \n",
    "* Indentation definition \n",
    "* Discussion about the Python Tools\n",
    "* MCQ FUN"
   ]
  },
  {
   "cell_type": "code",
   "execution_count": null,
   "id": "8eaa7dcf",
   "metadata": {},
   "outputs": [],
   "source": []
  },
  {
   "cell_type": "code",
   "execution_count": null,
   "id": "32e5b8d3",
   "metadata": {},
   "outputs": [],
   "source": [
    "# Introduciton Python"
   ]
  },
  {
   "cell_type": "code",
   "execution_count": null,
   "id": "54e928b5",
   "metadata": {},
   "outputs": [],
   "source": [
    "- High level language \n",
    "- code redeability \n",
    "- Python syntax to allow programmers concept in a few line of code"
   ]
  },
  {
   "cell_type": "code",
   "execution_count": null,
   "id": "5eacf783",
   "metadata": {},
   "outputs": [],
   "source": [
    "-> Instagram, spotify, Quora\n",
    "\n",
    "\n",
    "Application :\n",
    "    \n",
    "-> Web development - django \n",
    "-> Machine learning - pandas, numpy etc\n",
    "-> Desktop Applicaiton - CRM - dajngo rest api  - Client relationship Management \n",
    "-> Networking - Automation === Suppose your code github -> Python\n",
    "-> Game Development - Unity Game Eng.. || Python Library \n",
    "-> Data Science  - Pandas, Numpy , matplotlib et\n",
    "-> kiwi\n"
   ]
  },
  {
   "cell_type": "code",
   "execution_count": null,
   "id": "957b692a",
   "metadata": {},
   "outputs": [],
   "source": [
    "# Programming - \n",
    "\n",
    "-> Teaching your mind\n",
    "-> Teaching your Machine\n",
    "-> Execute the program\n"
   ]
  },
  {
   "cell_type": "code",
   "execution_count": null,
   "id": "ea8df45d",
   "metadata": {},
   "outputs": [],
   "source": [
    "# History of the Python\n",
    "\n",
    "-> Python language was created from Guido van Rossum \n",
    "-> 1989 released\n",
    "-> 2008 offical released\n",
    "-> 2021 Oct - python\n"
   ]
  },
  {
   "cell_type": "code",
   "execution_count": null,
   "id": "0e69d1a8",
   "metadata": {},
   "outputs": [],
   "source": [
    "Python Syntax :"
   ]
  },
  {
   "cell_type": "code",
   "execution_count": 1,
   "id": "425568c0",
   "metadata": {},
   "outputs": [
    {
     "name": "stdout",
     "output_type": "stream",
     "text": [
      "Hello world\n"
     ]
    }
   ],
   "source": [
    "print(\"Hello world\")"
   ]
  },
  {
   "cell_type": "code",
   "execution_count": null,
   "id": "f62096fa",
   "metadata": {},
   "outputs": [],
   "source": [
    "# One line of code -> print()"
   ]
  },
  {
   "cell_type": "code",
   "execution_count": 2,
   "id": "343eadfe",
   "metadata": {},
   "outputs": [
    {
     "data": {
      "text/plain": [
       "5"
      ]
     },
     "execution_count": 2,
     "metadata": {},
     "output_type": "execute_result"
    }
   ],
   "source": [
    "a = 2\n",
    "b = 3\n",
    "a +  b"
   ]
  },
  {
   "cell_type": "code",
   "execution_count": null,
   "id": "09aa8ca9",
   "metadata": {},
   "outputs": [],
   "source": [
    "# Key  Features of Python Language :"
   ]
  },
  {
   "cell_type": "code",
   "execution_count": null,
   "id": "ab50b589",
   "metadata": {},
   "outputs": [],
   "source": [
    "-> Easy & Powerful\n",
    "-> object - Oriented\n",
    "-> Interpreted\n",
    "-> Interactive\n",
    "-> Open Source"
   ]
  },
  {
   "cell_type": "code",
   "execution_count": null,
   "id": "3817bc8b",
   "metadata": {},
   "outputs": [],
   "source": [
    "# Easy & Powerful ->  less technical & Powerful\n",
    "                  ->  calle python\n",
    "    \n",
    "# Object-Oriented -> Oops concept provide to a reusable code template \n",
    "                  -> Features classes & Import easily anwhere class\n",
    "                 -> simplicity define for oops concept\n",
    "        \n",
    "\n",
    "# Interpreted  -> Proccessed line by line code\n",
    "\n",
    "# Intrective  ->  # >>>\n",
    "\n",
    "# Open Source - Library "
   ]
  },
  {
   "cell_type": "code",
   "execution_count": null,
   "id": "1c0b8c98",
   "metadata": {},
   "outputs": [],
   "source": [
    "# Interpreted example : \n"
   ]
  },
  {
   "cell_type": "code",
   "execution_count": 8,
   "id": "4058bb17",
   "metadata": {},
   "outputs": [],
   "source": [
    "x = 1"
   ]
  },
  {
   "cell_type": "code",
   "execution_count": 9,
   "id": "4c0a7d20",
   "metadata": {},
   "outputs": [],
   "source": [
    "y = 2"
   ]
  },
  {
   "cell_type": "code",
   "execution_count": 10,
   "id": "b3f378c2",
   "metadata": {},
   "outputs": [],
   "source": [
    "z = x + y"
   ]
  },
  {
   "cell_type": "code",
   "execution_count": 11,
   "id": "bd34cc93",
   "metadata": {},
   "outputs": [
    {
     "name": "stdout",
     "output_type": "stream",
     "text": [
      "3\n"
     ]
    }
   ],
   "source": [
    "print(z)"
   ]
  },
  {
   "cell_type": "code",
   "execution_count": null,
   "id": "3cd69213",
   "metadata": {},
   "outputs": [],
   "source": [
    "# Python Installation \n",
    "\n",
    "# Windows - .exe \n",
    "\n",
    "# Mac - .dmg \n",
    "\n",
    "# linux || ubuntu - \n",
    "\n",
    "\n",
    "-> sudo apt-get install python3\n"
   ]
  },
  {
   "cell_type": "code",
   "execution_count": null,
   "id": "a77b161c",
   "metadata": {},
   "outputs": [],
   "source": [
    "# Jupyter notebook"
   ]
  },
  {
   "cell_type": "code",
   "execution_count": null,
   "id": "2cc64bae",
   "metadata": {},
   "outputs": [],
   "source": [
    "pip install jupyternotbook"
   ]
  },
  {
   "cell_type": "code",
   "execution_count": 13,
   "id": "85e20334",
   "metadata": {},
   "outputs": [
    {
     "name": "stdout",
     "output_type": "stream",
     "text": [
      "['False', 'None', 'True', '__peg_parser__', 'and', 'as', 'assert', 'async', 'await', 'break', 'class', 'continue', 'def', 'del', 'elif', 'else', 'except', 'finally', 'for', 'from', 'global', 'if', 'import', 'in', 'is', 'lambda', 'nonlocal', 'not', 'or', 'pass', 'raise', 'return', 'try', 'while', 'with', 'yield']\n"
     ]
    }
   ],
   "source": [
    "import keyword\n",
    "\n",
    "print(keyword.kwlist)"
   ]
  },
  {
   "cell_type": "code",
   "execution_count": null,
   "id": "1372a758",
   "metadata": {},
   "outputs": [],
   "source": []
  }
 ],
 "metadata": {
  "kernelspec": {
   "display_name": "Python 3",
   "language": "python",
   "name": "python3"
  },
  "language_info": {
   "codemirror_mode": {
    "name": "ipython",
    "version": 3
   },
   "file_extension": ".py",
   "mimetype": "text/x-python",
   "name": "python",
   "nbconvert_exporter": "python",
   "pygments_lexer": "ipython3",
   "version": "3.9.7"
  }
 },
 "nbformat": 4,
 "nbformat_minor": 5
}
